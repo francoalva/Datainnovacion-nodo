{
 "cells": [
  {
   "cell_type": "code",
   "execution_count": 1,
   "id": "84db6a3d",
   "metadata": {},
   "outputs": [
    {
     "ename": "FileNotFoundError",
     "evalue": "[Errno 2] No such file or directory: 'Resources/Titulados/Titulados_Educacion_Superior_2020.csv'",
     "output_type": "error",
     "traceback": [
      "\u001b[1;31m---------------------------------------------------------------------------\u001b[0m",
      "\u001b[1;31mFileNotFoundError\u001b[0m                         Traceback (most recent call last)",
      "\u001b[1;32m<ipython-input-1-153c4d8b59d0>\u001b[0m in \u001b[0;36m<module>\u001b[1;34m\u001b[0m\n\u001b[0;32m     19\u001b[0m \u001b[0mdataframes\u001b[0m \u001b[1;33m=\u001b[0m \u001b[1;33m[\u001b[0m\u001b[1;33m]\u001b[0m\u001b[1;33m\u001b[0m\u001b[1;33m\u001b[0m\u001b[0m\n\u001b[0;32m     20\u001b[0m \u001b[1;32mfor\u001b[0m \u001b[0murl\u001b[0m \u001b[1;32min\u001b[0m \u001b[0murls\u001b[0m\u001b[1;33m:\u001b[0m\u001b[1;33m\u001b[0m\u001b[1;33m\u001b[0m\u001b[0m\n\u001b[1;32m---> 21\u001b[1;33m     \u001b[0mdf_aux\u001b[0m \u001b[1;33m=\u001b[0m \u001b[0mpd\u001b[0m\u001b[1;33m.\u001b[0m\u001b[0mread_csv\u001b[0m\u001b[1;33m(\u001b[0m\u001b[1;34m'Resources/Titulados/'\u001b[0m\u001b[1;33m+\u001b[0m\u001b[0murl\u001b[0m\u001b[1;33m,\u001b[0m \u001b[0msep\u001b[0m\u001b[1;33m=\u001b[0m\u001b[1;34m';'\u001b[0m\u001b[1;33m,\u001b[0m \u001b[0mlow_memory\u001b[0m\u001b[1;33m=\u001b[0m\u001b[1;32mFalse\u001b[0m\u001b[1;33m)\u001b[0m\u001b[1;33m\u001b[0m\u001b[1;33m\u001b[0m\u001b[0m\n\u001b[0m\u001b[0;32m     22\u001b[0m     \u001b[0mdf_aux\u001b[0m \u001b[1;33m=\u001b[0m \u001b[0mdf_aux\u001b[0m\u001b[1;33m[\u001b[0m\u001b[0mdf_aux\u001b[0m\u001b[1;33m[\u001b[0m\u001b[1;34m'region_sede'\u001b[0m\u001b[1;33m]\u001b[0m\u001b[1;33m.\u001b[0m\u001b[0misin\u001b[0m\u001b[1;33m(\u001b[0m\u001b[1;33m[\u001b[0m\u001b[1;34m'BIOBÍO'\u001b[0m\u001b[1;33m,\u001b[0m\u001b[1;34m'ÑUBLE'\u001b[0m\u001b[1;33m,\u001b[0m\u001b[1;34m\"LIB. GRAL B. O'HIGGINS\"\u001b[0m\u001b[1;33m,\u001b[0m\u001b[1;34m'MAULE'\u001b[0m\u001b[1;33m,\u001b[0m \u001b[1;34m'METROPOLITANA'\u001b[0m\u001b[1;33m]\u001b[0m\u001b[1;33m)\u001b[0m\u001b[1;33m]\u001b[0m\u001b[1;33m\u001b[0m\u001b[1;33m\u001b[0m\u001b[0m\n\u001b[0;32m     23\u001b[0m     \u001b[0mdataframes\u001b[0m\u001b[1;33m.\u001b[0m\u001b[0mappend\u001b[0m\u001b[1;33m(\u001b[0m\u001b[0mdf_aux\u001b[0m\u001b[1;33m)\u001b[0m\u001b[1;33m\u001b[0m\u001b[1;33m\u001b[0m\u001b[0m\n",
      "\u001b[1;32m~\\miniconda3\\envs\\nodo\\lib\\site-packages\\pandas\\util\\_decorators.py\u001b[0m in \u001b[0;36mwrapper\u001b[1;34m(*args, **kwargs)\u001b[0m\n\u001b[0;32m    309\u001b[0m                     \u001b[0mstacklevel\u001b[0m\u001b[1;33m=\u001b[0m\u001b[0mstacklevel\u001b[0m\u001b[1;33m,\u001b[0m\u001b[1;33m\u001b[0m\u001b[1;33m\u001b[0m\u001b[0m\n\u001b[0;32m    310\u001b[0m                 )\n\u001b[1;32m--> 311\u001b[1;33m             \u001b[1;32mreturn\u001b[0m \u001b[0mfunc\u001b[0m\u001b[1;33m(\u001b[0m\u001b[1;33m*\u001b[0m\u001b[0margs\u001b[0m\u001b[1;33m,\u001b[0m \u001b[1;33m**\u001b[0m\u001b[0mkwargs\u001b[0m\u001b[1;33m)\u001b[0m\u001b[1;33m\u001b[0m\u001b[1;33m\u001b[0m\u001b[0m\n\u001b[0m\u001b[0;32m    312\u001b[0m \u001b[1;33m\u001b[0m\u001b[0m\n\u001b[0;32m    313\u001b[0m         \u001b[1;32mreturn\u001b[0m \u001b[0mwrapper\u001b[0m\u001b[1;33m\u001b[0m\u001b[1;33m\u001b[0m\u001b[0m\n",
      "\u001b[1;32m~\\miniconda3\\envs\\nodo\\lib\\site-packages\\pandas\\io\\parsers\\readers.py\u001b[0m in \u001b[0;36mread_csv\u001b[1;34m(filepath_or_buffer, sep, delimiter, header, names, index_col, usecols, squeeze, prefix, mangle_dupe_cols, dtype, engine, converters, true_values, false_values, skipinitialspace, skiprows, skipfooter, nrows, na_values, keep_default_na, na_filter, verbose, skip_blank_lines, parse_dates, infer_datetime_format, keep_date_col, date_parser, dayfirst, cache_dates, iterator, chunksize, compression, thousands, decimal, lineterminator, quotechar, quoting, doublequote, escapechar, comment, encoding, encoding_errors, dialect, error_bad_lines, warn_bad_lines, on_bad_lines, delim_whitespace, low_memory, memory_map, float_precision, storage_options)\u001b[0m\n\u001b[0;32m    584\u001b[0m     \u001b[0mkwds\u001b[0m\u001b[1;33m.\u001b[0m\u001b[0mupdate\u001b[0m\u001b[1;33m(\u001b[0m\u001b[0mkwds_defaults\u001b[0m\u001b[1;33m)\u001b[0m\u001b[1;33m\u001b[0m\u001b[1;33m\u001b[0m\u001b[0m\n\u001b[0;32m    585\u001b[0m \u001b[1;33m\u001b[0m\u001b[0m\n\u001b[1;32m--> 586\u001b[1;33m     \u001b[1;32mreturn\u001b[0m \u001b[0m_read\u001b[0m\u001b[1;33m(\u001b[0m\u001b[0mfilepath_or_buffer\u001b[0m\u001b[1;33m,\u001b[0m \u001b[0mkwds\u001b[0m\u001b[1;33m)\u001b[0m\u001b[1;33m\u001b[0m\u001b[1;33m\u001b[0m\u001b[0m\n\u001b[0m\u001b[0;32m    587\u001b[0m \u001b[1;33m\u001b[0m\u001b[0m\n\u001b[0;32m    588\u001b[0m \u001b[1;33m\u001b[0m\u001b[0m\n",
      "\u001b[1;32m~\\miniconda3\\envs\\nodo\\lib\\site-packages\\pandas\\io\\parsers\\readers.py\u001b[0m in \u001b[0;36m_read\u001b[1;34m(filepath_or_buffer, kwds)\u001b[0m\n\u001b[0;32m    480\u001b[0m \u001b[1;33m\u001b[0m\u001b[0m\n\u001b[0;32m    481\u001b[0m     \u001b[1;31m# Create the parser.\u001b[0m\u001b[1;33m\u001b[0m\u001b[1;33m\u001b[0m\u001b[1;33m\u001b[0m\u001b[0m\n\u001b[1;32m--> 482\u001b[1;33m     \u001b[0mparser\u001b[0m \u001b[1;33m=\u001b[0m \u001b[0mTextFileReader\u001b[0m\u001b[1;33m(\u001b[0m\u001b[0mfilepath_or_buffer\u001b[0m\u001b[1;33m,\u001b[0m \u001b[1;33m**\u001b[0m\u001b[0mkwds\u001b[0m\u001b[1;33m)\u001b[0m\u001b[1;33m\u001b[0m\u001b[1;33m\u001b[0m\u001b[0m\n\u001b[0m\u001b[0;32m    483\u001b[0m \u001b[1;33m\u001b[0m\u001b[0m\n\u001b[0;32m    484\u001b[0m     \u001b[1;32mif\u001b[0m \u001b[0mchunksize\u001b[0m \u001b[1;32mor\u001b[0m \u001b[0miterator\u001b[0m\u001b[1;33m:\u001b[0m\u001b[1;33m\u001b[0m\u001b[1;33m\u001b[0m\u001b[0m\n",
      "\u001b[1;32m~\\miniconda3\\envs\\nodo\\lib\\site-packages\\pandas\\io\\parsers\\readers.py\u001b[0m in \u001b[0;36m__init__\u001b[1;34m(self, f, engine, **kwds)\u001b[0m\n\u001b[0;32m    809\u001b[0m             \u001b[0mself\u001b[0m\u001b[1;33m.\u001b[0m\u001b[0moptions\u001b[0m\u001b[1;33m[\u001b[0m\u001b[1;34m\"has_index_names\"\u001b[0m\u001b[1;33m]\u001b[0m \u001b[1;33m=\u001b[0m \u001b[0mkwds\u001b[0m\u001b[1;33m[\u001b[0m\u001b[1;34m\"has_index_names\"\u001b[0m\u001b[1;33m]\u001b[0m\u001b[1;33m\u001b[0m\u001b[1;33m\u001b[0m\u001b[0m\n\u001b[0;32m    810\u001b[0m \u001b[1;33m\u001b[0m\u001b[0m\n\u001b[1;32m--> 811\u001b[1;33m         \u001b[0mself\u001b[0m\u001b[1;33m.\u001b[0m\u001b[0m_engine\u001b[0m \u001b[1;33m=\u001b[0m \u001b[0mself\u001b[0m\u001b[1;33m.\u001b[0m\u001b[0m_make_engine\u001b[0m\u001b[1;33m(\u001b[0m\u001b[0mself\u001b[0m\u001b[1;33m.\u001b[0m\u001b[0mengine\u001b[0m\u001b[1;33m)\u001b[0m\u001b[1;33m\u001b[0m\u001b[1;33m\u001b[0m\u001b[0m\n\u001b[0m\u001b[0;32m    812\u001b[0m \u001b[1;33m\u001b[0m\u001b[0m\n\u001b[0;32m    813\u001b[0m     \u001b[1;32mdef\u001b[0m \u001b[0mclose\u001b[0m\u001b[1;33m(\u001b[0m\u001b[0mself\u001b[0m\u001b[1;33m)\u001b[0m\u001b[1;33m:\u001b[0m\u001b[1;33m\u001b[0m\u001b[1;33m\u001b[0m\u001b[0m\n",
      "\u001b[1;32m~\\miniconda3\\envs\\nodo\\lib\\site-packages\\pandas\\io\\parsers\\readers.py\u001b[0m in \u001b[0;36m_make_engine\u001b[1;34m(self, engine)\u001b[0m\n\u001b[0;32m   1038\u001b[0m             )\n\u001b[0;32m   1039\u001b[0m         \u001b[1;31m# error: Too many arguments for \"ParserBase\"\u001b[0m\u001b[1;33m\u001b[0m\u001b[1;33m\u001b[0m\u001b[1;33m\u001b[0m\u001b[0m\n\u001b[1;32m-> 1040\u001b[1;33m         \u001b[1;32mreturn\u001b[0m \u001b[0mmapping\u001b[0m\u001b[1;33m[\u001b[0m\u001b[0mengine\u001b[0m\u001b[1;33m]\u001b[0m\u001b[1;33m(\u001b[0m\u001b[0mself\u001b[0m\u001b[1;33m.\u001b[0m\u001b[0mf\u001b[0m\u001b[1;33m,\u001b[0m \u001b[1;33m**\u001b[0m\u001b[0mself\u001b[0m\u001b[1;33m.\u001b[0m\u001b[0moptions\u001b[0m\u001b[1;33m)\u001b[0m  \u001b[1;31m# type: ignore[call-arg]\u001b[0m\u001b[1;33m\u001b[0m\u001b[1;33m\u001b[0m\u001b[0m\n\u001b[0m\u001b[0;32m   1041\u001b[0m \u001b[1;33m\u001b[0m\u001b[0m\n\u001b[0;32m   1042\u001b[0m     \u001b[1;32mdef\u001b[0m \u001b[0m_failover_to_python\u001b[0m\u001b[1;33m(\u001b[0m\u001b[0mself\u001b[0m\u001b[1;33m)\u001b[0m\u001b[1;33m:\u001b[0m\u001b[1;33m\u001b[0m\u001b[1;33m\u001b[0m\u001b[0m\n",
      "\u001b[1;32m~\\miniconda3\\envs\\nodo\\lib\\site-packages\\pandas\\io\\parsers\\c_parser_wrapper.py\u001b[0m in \u001b[0;36m__init__\u001b[1;34m(self, src, **kwds)\u001b[0m\n\u001b[0;32m     49\u001b[0m \u001b[1;33m\u001b[0m\u001b[0m\n\u001b[0;32m     50\u001b[0m         \u001b[1;31m# open handles\u001b[0m\u001b[1;33m\u001b[0m\u001b[1;33m\u001b[0m\u001b[1;33m\u001b[0m\u001b[0m\n\u001b[1;32m---> 51\u001b[1;33m         \u001b[0mself\u001b[0m\u001b[1;33m.\u001b[0m\u001b[0m_open_handles\u001b[0m\u001b[1;33m(\u001b[0m\u001b[0msrc\u001b[0m\u001b[1;33m,\u001b[0m \u001b[0mkwds\u001b[0m\u001b[1;33m)\u001b[0m\u001b[1;33m\u001b[0m\u001b[1;33m\u001b[0m\u001b[0m\n\u001b[0m\u001b[0;32m     52\u001b[0m         \u001b[1;32massert\u001b[0m \u001b[0mself\u001b[0m\u001b[1;33m.\u001b[0m\u001b[0mhandles\u001b[0m \u001b[1;32mis\u001b[0m \u001b[1;32mnot\u001b[0m \u001b[1;32mNone\u001b[0m\u001b[1;33m\u001b[0m\u001b[1;33m\u001b[0m\u001b[0m\n\u001b[0;32m     53\u001b[0m \u001b[1;33m\u001b[0m\u001b[0m\n",
      "\u001b[1;32m~\\miniconda3\\envs\\nodo\\lib\\site-packages\\pandas\\io\\parsers\\base_parser.py\u001b[0m in \u001b[0;36m_open_handles\u001b[1;34m(self, src, kwds)\u001b[0m\n\u001b[0;32m    220\u001b[0m         \u001b[0mLet\u001b[0m \u001b[0mthe\u001b[0m \u001b[0mreaders\u001b[0m \u001b[0mopen\u001b[0m \u001b[0mIOHandles\u001b[0m \u001b[0mafter\u001b[0m \u001b[0mthey\u001b[0m \u001b[0mare\u001b[0m \u001b[0mdone\u001b[0m \u001b[1;32mwith\u001b[0m \u001b[0mtheir\u001b[0m \u001b[0mpotential\u001b[0m \u001b[0mraises\u001b[0m\u001b[1;33m.\u001b[0m\u001b[1;33m\u001b[0m\u001b[1;33m\u001b[0m\u001b[0m\n\u001b[0;32m    221\u001b[0m         \"\"\"\n\u001b[1;32m--> 222\u001b[1;33m         self.handles = get_handle(\n\u001b[0m\u001b[0;32m    223\u001b[0m             \u001b[0msrc\u001b[0m\u001b[1;33m,\u001b[0m\u001b[1;33m\u001b[0m\u001b[1;33m\u001b[0m\u001b[0m\n\u001b[0;32m    224\u001b[0m             \u001b[1;34m\"r\"\u001b[0m\u001b[1;33m,\u001b[0m\u001b[1;33m\u001b[0m\u001b[1;33m\u001b[0m\u001b[0m\n",
      "\u001b[1;32m~\\miniconda3\\envs\\nodo\\lib\\site-packages\\pandas\\io\\common.py\u001b[0m in \u001b[0;36mget_handle\u001b[1;34m(path_or_buf, mode, encoding, compression, memory_map, is_text, errors, storage_options)\u001b[0m\n\u001b[0;32m    700\u001b[0m         \u001b[1;32mif\u001b[0m \u001b[0mioargs\u001b[0m\u001b[1;33m.\u001b[0m\u001b[0mencoding\u001b[0m \u001b[1;32mand\u001b[0m \u001b[1;34m\"b\"\u001b[0m \u001b[1;32mnot\u001b[0m \u001b[1;32min\u001b[0m \u001b[0mioargs\u001b[0m\u001b[1;33m.\u001b[0m\u001b[0mmode\u001b[0m\u001b[1;33m:\u001b[0m\u001b[1;33m\u001b[0m\u001b[1;33m\u001b[0m\u001b[0m\n\u001b[0;32m    701\u001b[0m             \u001b[1;31m# Encoding\u001b[0m\u001b[1;33m\u001b[0m\u001b[1;33m\u001b[0m\u001b[1;33m\u001b[0m\u001b[0m\n\u001b[1;32m--> 702\u001b[1;33m             handle = open(\n\u001b[0m\u001b[0;32m    703\u001b[0m                 \u001b[0mhandle\u001b[0m\u001b[1;33m,\u001b[0m\u001b[1;33m\u001b[0m\u001b[1;33m\u001b[0m\u001b[0m\n\u001b[0;32m    704\u001b[0m                 \u001b[0mioargs\u001b[0m\u001b[1;33m.\u001b[0m\u001b[0mmode\u001b[0m\u001b[1;33m,\u001b[0m\u001b[1;33m\u001b[0m\u001b[1;33m\u001b[0m\u001b[0m\n",
      "\u001b[1;31mFileNotFoundError\u001b[0m: [Errno 2] No such file or directory: 'Resources/Titulados/Titulados_Educacion_Superior_2020.csv'"
     ]
    }
   ],
   "source": [
    "import pandas as pd\n",
    "import altair as alt\n",
    "\n",
    "urls = ['Titulados_Educacion_Superior_2020.csv',\n",
    "        'Titulados_Educacion_Superior_2019.csv',\n",
    "       'Titulados_Educacion_Superior_2018.csv',\n",
    "       'Titulados_Educacion_Superior_2017.csv',\n",
    "       'Titulados_Educacion_Superior_2016.csv',\n",
    "       'Titulados_Educacion_Superior_2015.csv',\n",
    "       'Titulados_Educacion_Superior_2014.csv',\n",
    "       'Titulados_Educacion_Superior_2013.csv',\n",
    "       'Titulados_Educacion_Superior_2012.csv',\n",
    "       'Titulados_Educacion_Superior_2011.csv',\n",
    "       'Titulados_Educacion_Superior_2010.csv',\n",
    "       'Titulados_Educacion_Superior_2009.csv',\n",
    "       'Titulados_Educacion_Superior_2008.csv',\n",
    "       'Titulados_Educacion_Superior_2007.csv',]\n",
    "\n",
    "dataframes = []\n",
    "for url in urls:\n",
    "    df_aux = pd.read_csv('Resources/Titulados/'+url, sep=';', low_memory=False)       \n",
    "    df_aux = df_aux[df_aux['region_sede'].isin(['BIOBÍO','ÑUBLE',\"LIB. GRAL B. O'HIGGINS\",'MAULE', 'METROPOLITANA'])]\n",
    "    dataframes.append(df_aux)\n",
    "\n",
    "df_titulados = pd.concat(dataframes)\n",
    "\n",
    "df_titulados.head()\n"
   ]
  },
  {
   "cell_type": "code",
   "execution_count": null,
   "id": "b842bca5",
   "metadata": {},
   "outputs": [],
   "source": [
    "def SetAreaANID(area):\n",
    "    \n",
    "    if area == 'CIENCIAS SOCIALES':\n",
    "        return area \n",
    "    elif area == 'ENSEÑANZA COMERCIAL Y DERECHO':\n",
    "        return 'CIENCIAS JURÍDICAS, ECONÓMICAS Y ADMINISTRATIVAS'\n",
    "    elif area == 'CIENCIAS':\n",
    "        return 'CIENCIAS EXACTAS Y NATURALES'\n",
    "    elif area == 'SALUD Y SERVICIOS SOCIALES':\n",
    "        return 'TECNOLOGÍA Y CIENCIAS MÉDICAS'\n",
    "    elif area == 'SERVICIOS':\n",
    "        return area                              #no sé como categorizarla en el documento que me enviaron\n",
    "    elif area == 'EDUCACIÓN':\n",
    "        return 'CIENCIAS SOCIALES'\n",
    "    elif area == 'AGRICULTURA':\n",
    "        return 'TECNOLOGÍA Y CIENCIAS SILVOAGROPECUARIAS'\n",
    "    elif area == 'HUMANIDADES Y ARTES':\n",
    "        return 'HUMANIDADES'\n",
    "    elif area == 'INGENIERÍA, INDUSTRIA Y CONSTRUCCIÓN':\n",
    "        return 'TECNOLOGÍA Y CIENCIAS DE LA INGENIERÍA'\n",
    "    return area"
   ]
  },
  {
   "cell_type": "code",
   "execution_count": null,
   "id": "fbbb0093",
   "metadata": {},
   "outputs": [],
   "source": [
    "population = [{\"region_sede\": \"LIB. GRAL B. O'HIGGINS\", \"Population\": 914555},\n",
    "            {\"region_sede\": \"MAULE\", \"Population\": 1044950},\n",
    "            {\"region_sede\": \"ÑUBLE\", \"Population\": 480609},\n",
    "            {\"region_sede\": \"BIOBÍO\", \"Population\": 1556805}, \n",
    "            {\"region_sede\": \"METROPOLITANA\", \"Population\": 7112808}]\n",
    "df_population = pd.DataFrame(population)"
   ]
  },
  {
   "cell_type": "code",
   "execution_count": null,
   "id": "43ee9425",
   "metadata": {},
   "outputs": [],
   "source": [
    "#capital humano avanzado\n",
    "df_CHA = df_titulados[df_titulados['nivel_carrera_2'].isin(['MAGISTER','POSTÍTULO','DOCTORADO'])]\n",
    "#Seleccionamos regiones macrozona y metropolitana\n",
    "df_CHA = df_CHA[df_CHA['region_sede'].isin(['MAULE','ÑUBLE','BIOBÍO','METROPOLITANA',\"LIB. GRAL B. O'HIGGINS\"])]\n",
    "#Seteamos area ANID\n",
    "df_CHA['area_anid'] = df_CHA['oecd_area'].apply(SetAreaANID)\n",
    "df_CHA.head()"
   ]
  },
  {
   "cell_type": "code",
   "execution_count": null,
   "id": "a95a59aa",
   "metadata": {},
   "outputs": [],
   "source": [
    "aux1 = df_CHA.groupby(['region_sede','oecd_area'])\\\n",
    "        .agg({'codigo_unico' : 'count'}).rename(columns={'codigo_unico': 'COUNT'})\\\n",
    "        .copy().reset_index()\n",
    "aux1['TASA'] = ((aux1['COUNT'] / aux1['COUNT'].sum()))\n"
   ]
  },
  {
   "cell_type": "markdown",
   "id": "b65c7023",
   "metadata": {},
   "source": [
    "# Capital humano avanzado por % Area OCDE"
   ]
  },
  {
   "cell_type": "code",
   "execution_count": null,
   "id": "84095b64",
   "metadata": {},
   "outputs": [],
   "source": [
    "alt.Chart(aux1).mark_bar().encode(\n",
    "    x = alt.X('TASA', stack=\"normalize\", axis=alt.Axis(format='%'), title=None),\n",
    "    y = alt.Y('region_sede',sort=None,title=None),\n",
    "    color = alt.Color('oecd_area',\n",
    "                      title='ÁREA OCDE',scale=alt.Scale(scheme='dark2')),\n",
    "    tooltip = [alt.Tooltip('TASA', title='Tasa', format='.2%'),\n",
    "              alt.Tooltip('COUNT', title='Cantidad')]\n",
    ").properties(\n",
    "    title=['TITULADOS POR ÁREA OCDE','EN LA MACROZONA Y RM',\"2007-2020\"]\n",
    ").configure_legend(titleFontSize=14,labelFontSize=10).configure_title(\n",
    "    fontSize=20, font='Arial', anchor='middle',color='black'\n",
    "  )"
   ]
  },
  {
   "cell_type": "markdown",
   "id": "1d9caa7e",
   "metadata": {},
   "source": [
    "# Capital Humano avanzado por % area ANID"
   ]
  },
  {
   "cell_type": "code",
   "execution_count": null,
   "id": "d440a3bf",
   "metadata": {},
   "outputs": [],
   "source": [
    "aux1B = df_CHA.groupby(['region_sede','area_anid'])\\\n",
    "        .agg({'codigo_unico' : 'count'}).rename(columns={'codigo_unico': 'COUNT'})\\\n",
    "        .copy().reset_index()\n",
    "aux1B['TASA'] = ((aux1B['COUNT'] / aux1B['COUNT'].sum()))\n",
    "\n",
    "alt.Chart(aux1B).mark_bar().encode(\n",
    "    x = alt.X('TASA', stack=\"normalize\", axis=alt.Axis(format='%'), title=None),\n",
    "    y = alt.Y('region_sede',sort=None,title=None),\n",
    "    color = alt.Color('area_anid',\n",
    "                      title='ÁREA ANID',scale=alt.Scale(scheme='dark2')),\n",
    "    tooltip = [alt.Tooltip('TASA', title='Tasa', format='.2%'),\n",
    "              alt.Tooltip('COUNT', title='Cantidad')]\n",
    ").properties(\n",
    "    title=['TITULADOS POR ÁREA ANID','EN LA MACROZONA Y RM',\"2007-2020\"]\n",
    ").configure_legend(titleFontSize=14,labelFontSize=10).configure_title(\n",
    "    fontSize=20, font='Arial', anchor='middle',color='black'\n",
    "  )"
   ]
  },
  {
   "cell_type": "markdown",
   "id": "1c17ea0d",
   "metadata": {},
   "source": [
    "# Cantidad de titulados normalizados en titulados por cada 100mil habitantes, separados por area OCDE SOLO 2020"
   ]
  },
  {
   "cell_type": "code",
   "execution_count": null,
   "id": "78809ca5",
   "metadata": {},
   "outputs": [],
   "source": [
    "# ESTE ES POR MIENTRAS PARA CONSIDERAR SOLO 2020 \n",
    "df_tit2020 = pd.read_csv('Resources/Titulados/Titulados_Educacion_Superior_2020.csv', sep=';', low_memory=False) \n",
    "#capital humano avanzado\n",
    "df_tit2020 = df_tit2020[df_tit2020['nivel_carrera_2'].isin(['MAGISTER','POSTÍTULO','DOCTORADO'])]\n",
    "df_tit2020 = df_tit2020[df_tit2020['region_sede'].isin(['MAULE','ÑUBLE','BIOBÍO','METROPOLITANA'])]\n",
    "#Seteamos area ANID\n",
    "df_tit2020['area_anid'] = df_tit2020['oecd_area'].apply(SetAreaANID)\n",
    "df_tit2020.head(3)"
   ]
  },
  {
   "cell_type": "code",
   "execution_count": null,
   "id": "09c2d650",
   "metadata": {},
   "outputs": [],
   "source": [
    "aux2 = df_tit2020.groupby(['region_sede','oecd_area','nivel_carrera_2'])\\\n",
    "        .agg({'codigo_unico' : 'count'}).rename(columns={'codigo_unico': 'COUNT'})\\\n",
    "        .copy().reset_index()\n",
    "aux2 = aux2.merge(df_population, on=\"region_sede\") \n",
    "#normalizamos \n",
    "# titulados por cada 100mil hb\n",
    "aux2['NORM'] = (aux2['COUNT'] * 100000 )/(aux2['Population'])  \n",
    "aux2.head(2)"
   ]
  },
  {
   "cell_type": "code",
   "execution_count": null,
   "id": "b9df8df5",
   "metadata": {},
   "outputs": [],
   "source": [
    "alt.Chart(aux2).mark_bar().encode(\n",
    "    y = alt.Y('oecd_area', title = None),\n",
    "    x = alt.X('NORM',title = 'Titulados por cada 100mil hb'),\n",
    "    color = alt.Color('nivel_carrera_2', title= 'Nivel',scale=alt.Scale(scheme='set1')),\n",
    "    facet=alt.Facet('region_sede:N', columns=2, title=None)\n",
    ").properties(\n",
    "    title=['TITULADOS POR ÁREA OCDE','EN LA MACROZONA Y RM',\"2020\"]\n",
    ").configure_legend(titleFontSize=14,labelFontSize=10).configure_title(\n",
    "    fontSize=20, font='Arial', anchor='middle',color='black'\n",
    "  )"
   ]
  },
  {
   "cell_type": "markdown",
   "id": "c631cc3c",
   "metadata": {},
   "source": [
    "# Desagrupando CIENCIAS (area OECD) en subAREAS"
   ]
  },
  {
   "cell_type": "code",
   "execution_count": null,
   "id": "5c58ba65",
   "metadata": {},
   "outputs": [],
   "source": [
    "df_CHA.columns"
   ]
  },
  {
   "cell_type": "code",
   "execution_count": null,
   "id": "066f71ea",
   "metadata": {},
   "outputs": [],
   "source": [
    "df_ciencias = df_CHA[df_CHA['oecd_area']== 'CIENCIAS']\n",
    "\n",
    "df_ciencias = df_ciencias.groupby(['region_sede','oecd_subarea'])\\\n",
    "        .agg({'codigo_unico' : 'count'}).rename(columns={'codigo_unico': 'COUNT'})\\\n",
    "        .copy().reset_index()\n",
    "df_ciencias['TASA'] = ((df_ciencias['COUNT'] / df_ciencias['COUNT'].sum()))\n",
    "\n",
    "alt.Chart(df_ciencias).mark_bar().encode(\n",
    "    x = alt.X('TASA', stack=\"normalize\", axis=alt.Axis(format='%'), title=None),\n",
    "    y = alt.Y('region_sede',sort=None,title=None),\n",
    "    color = alt.Color('oecd_subarea',\n",
    "                      title='SUB ÁREA CIENCIAS',scale=alt.Scale(scheme='dark2')),\n",
    "    tooltip = [alt.Tooltip('TASA', title='Tasa', format='.2%'),\n",
    "              alt.Tooltip('COUNT', title='Cantidad')]\n",
    ").properties(\n",
    "    title=['DESGLOSE CIENCIAS EN SUBÁREAS','EN LA MACROZONA Y RM',\"2007-2020\"]\n",
    ").configure_legend(titleFontSize=14,labelFontSize=10).configure_title(\n",
    "    fontSize=20, font='Arial', anchor='middle',color='black'\n",
    "  )"
   ]
  },
  {
   "cell_type": "code",
   "execution_count": null,
   "id": "c09eacf1",
   "metadata": {
    "scrolled": true
   },
   "outputs": [],
   "source": [
    "df_ciencias2 = df_tit2020[df_tit2020['oecd_area']== 'CIENCIAS']\n",
    "df_ciencias2 = df_ciencias2.groupby(['region_sede','oecd_subarea','nivel_carrera_2'])\\\n",
    "        .agg({'codigo_unico' : 'count'}).rename(columns={'codigo_unico': 'COUNT'})\\\n",
    "        .copy().reset_index()\n",
    "df_ciencias2 = df_ciencias2.merge(df_population, on=\"region_sede\") \n",
    "#normalizamos \n",
    "# titulados por cada 100mil hb\n",
    "df_ciencias2['NORM'] = (df_ciencias2['COUNT'] * 100000 )/(df_ciencias2['Population'])  \n",
    "\n",
    "alt.Chart(df_ciencias2).mark_bar().encode(\n",
    "    y = alt.Y('oecd_subarea', title = None),\n",
    "    x = alt.X('NORM',title = 'Titulados por cada 100mil hb'),\n",
    "    color = alt.Color('nivel_carrera_2', title= 'Nivel',scale=alt.Scale(scheme='set1')),\n",
    "    facet=alt.Facet('region_sede:N', columns=2, title=None)\n",
    ").properties(\n",
    "    title=['DESGLOSE TITULADOS AREA CIENCIAS','EN LA MACROZONA Y RM',\"2020\"]\n",
    ").configure_legend(titleFontSize=14,labelFontSize=10).configure_title(\n",
    "    fontSize=20, font='Arial', anchor='middle',color='black'\n",
    "  )"
   ]
  },
  {
   "cell_type": "code",
   "execution_count": null,
   "id": "513adf45",
   "metadata": {},
   "outputs": [],
   "source": []
  }
 ],
 "metadata": {
  "kernelspec": {
   "display_name": "Python 3",
   "language": "python",
   "name": "python3"
  },
  "language_info": {
   "codemirror_mode": {
    "name": "ipython",
    "version": 3
   },
   "file_extension": ".py",
   "mimetype": "text/x-python",
   "name": "python",
   "nbconvert_exporter": "python",
   "pygments_lexer": "ipython3",
   "version": "3.9.5"
  }
 },
 "nbformat": 4,
 "nbformat_minor": 5
}
